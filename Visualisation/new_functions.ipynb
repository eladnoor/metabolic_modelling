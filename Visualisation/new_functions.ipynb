{
 "metadata": {
  "language_info": {
   "codemirror_mode": {
    "name": "ipython",
    "version": 3
   },
   "file_extension": ".py",
   "mimetype": "text/x-python",
   "name": "python",
   "nbconvert_exporter": "python",
   "pygments_lexer": "ipython3",
   "version": "3.7.6-final"
  },
  "orig_nbformat": 2,
  "kernelspec": {
   "name": "python_defaultSpec_1600885546717",
   "display_name": "Python 3.7.6 64-bit ('base': conda)"
  }
 },
 "nbformat": 4,
 "nbformat_minor": 2,
 "cells": [
  {
   "cell_type": "code",
   "execution_count": 6,
   "metadata": {},
   "outputs": [],
   "source": [
    "#flux2json---------------------------------------------------------------\n",
    "#Produces a json file with the FBA results (Rxn IDs and their fluxes). The JSON flux file can be loaded in Escher for Visualisation. This is a general function that can be used with any model.\n",
    "\n",
    "#Inputs:\n",
    "#fluxes: FBA fluxes as a pandas Series object. This is what you get in cobrapy as model.optimize().fluxes\n",
    "#filename: name of the file you want to write, as a string\n",
    "#output_dir: name of the output directory where you wish the new file to be saved (default: 'export')\n",
    "#----------------------------------------------------------------------\n",
    "import json\n",
    "import pandas as pd \n",
    "import os\n",
    "def flux2json(fluxes,filename,output_dir='export'):\n",
    "    dic=pd.Series.to_dict(fluxes)\n",
    "    if not os.path.exists(output_dir):\n",
    "        os.mkdir(output_dir)\n",
    "    filepath = os.path.join(output_dir, filename+'.json')\n",
    "    with open(filepath+'.json', 'w') as f:\n",
    "        json.dump(dic, f)"
   ]
  },
  {
   "cell_type": "code",
   "execution_count": 7,
   "metadata": {},
   "outputs": [],
   "source": [
    "#flux_visualisation---------------------------------------------------------------\n",
    "#Produces a json file with the FBA results (Rxn IDs and their fluxes). The JSON flux file can be loaded in Escher for Visualisation. This is the function SPECIFIC FOR VISUALISATION OF OUR REDUCED MODEL WITH OUR MAP. Indeed, it will add rows to the JSON table with the name of the Compressed pathways in the map, and assign specific fluxes from the model to them (generally the flux of the last reactions in the pathway.)\n",
    "\n",
    "#This function is to be be updated if new compressed pathway are added to the map, or if the name of the compressed pathway are changed.\n",
    "\n",
    "#Inputs:\n",
    "#fluxes: FBA fluxes as a pandas Series object. This is what you get in cobrapy as model.optimize().fluxes\n",
    "#filename: name of the file you want to write, as a string\n",
    "#output_dir: name of the output directory where you wish the new file to be saved (default: 'export')\n",
    "#----------------------------------------------------------------------\n",
    "import json\n",
    "import pandas as pd \n",
    "import os\n",
    "def flux_visualisation(fluxes, filename, output_dir):\n",
    "    dic=pd.Series.to_dict(fluxes)\n",
    "\n",
    "    #Assign a flux to each Compressed Pathway. Update this if the map is changed!-----\n",
    "    cp_list={\"Chorismate_Biosynthesis(CP)\":dic[\"CHORS\"],\n",
    "         \"Histidine_biosynthesis(CP)\":dic[\"HISTD\"],\n",
    "         \"Tryptophan_Biosynthesis(CP)\":dic[\"TRPS2\"],\n",
    "         \"3mob_Biosynthesis(CP)\":dic[\"DHAD1\"],\n",
    "         \"Leucine_Biosynthesis(CP)\":dic[\"LEUTAi\"],\n",
    "         \"Lysine_Biosynthesis(CP)\":dic[\"DAPDC\"],\n",
    "         \"Isoleucine_Biosynthesis(CP)\":dic[\"ILETA\"],\n",
    "         \"Methionine_Biosynthesis(CP)\":dic[\"METS\"],\n",
    "         \"H2S_Biosynthesis(CP)\":dic[\"SULR\"],\n",
    "         \"Proline_Biosynthesis(CP)\":dic[\"P5CR\"],\n",
    "         \"Arginine_Biosynthesis(CP)\":dic[\"ARGSL\"],\n",
    "         \"UDP_Biosynthesis(CP)\":dic[\"UMPK\"],\n",
    "         \"dCTP_Biosynthesis(CP)\":dic[\"NDPK7\"],\n",
    "         \"dTTP_Biosynthesis(CP)\":dic[\"NDPK4\"],\n",
    "         \"Aicar_Biosynthesis(CP)\":dic[\"ADSL2r\"],\n",
    "         \"tdec2eACP_Biosynthesis(CP)\":dic[\"3HAD100\"],\n",
    "         \"hdeACP_Biosynthesis(CP)\":dic[\"EAR161x\"],\n",
    "         \"3hmrsACP_Biosynthesis(CP)\":dic[\"3OAR140\"],\n",
    "         \"Palmitoyl_ACP_Biosynthesis(CP)\":dic[\"EAR160x\"],\n",
    "            }\n",
    "    #----------------------------------------------------------------------\n",
    "    dic.update(cp_list)\n",
    "    if not os.path.exists(output_dir):\n",
    "        os.mkdir(output_dir)\n",
    "    filepath = os.path.join(output_dir, filename+'.json')\n",
    "    with open(filepath, 'w') as f:\n",
    "        json.dump(dic, f)"
   ]
  },
  {
   "cell_type": "code",
   "execution_count": 8,
   "metadata": {},
   "outputs": [],
   "source": [
    "#fimport_reactions---------------------------------------------------------------\n",
    "#Import one or multiple reactions from another model. Since our reduced model is fully consistent with iML1515, new reactions can safely be imported from it.\n",
    "\n",
    "#Inputs:\n",
    "#model: model to which the reactions should be added.\n",
    "#import_model: model from which the reactions should be imported\n",
    "#rxn_list: list of reactions IDs to import \n",
    "#----------------------------------------------------------------------\n",
    "\n",
    "def import_rxns(model,import_model,rxn_list):\n",
    "    #Create a reaction list from the import_model\n",
    "    l=[]\n",
    "    for r in model.reactions:\n",
    "        l.append(r.id)\n",
    "\n",
    "    for r_id in rxn_list:\n",
    "        if r_id in l:\n",
    "            model.add_reaction(full.reactions.get_by_id(r_id))\n",
    "        else:\n",
    "            print(\"Reaction \"+r_id+\"was not found in the full model and was not added\")"
   ]
  },
  {
   "cell_type": "code",
   "execution_count": null,
   "metadata": {},
   "outputs": [],
   "source": []
  }
 ]
}